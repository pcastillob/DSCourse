{
 "cells": [
  {
   "cell_type": "markdown",
   "id": "389dbd11",
   "metadata": {},
   "source": [
    "# Data Science Tools and Ecosystem"
   ]
  },
  {
   "cell_type": "markdown",
   "id": "6f264e0e",
   "metadata": {},
   "source": [
    "__In this notebook i will sumarize all the content of this chapter... Tools for Data Science__"
   ]
  },
  {
   "cell_type": "markdown",
   "id": "84066a0a",
   "metadata": {},
   "source": [
    "**Objectives:**\n",
    "* List of open source and free tools for every aspect of data science\n",
    "* List of libraries of popular languages used in data science\n",
    "* Introduction to Jupyter\n",
    "* Introduction to Git\n",
    "* Using Dax and Max\n",
    "\n"
   ]
  },
  {
   "cell_type": "markdown",
   "id": "b59b3ce8",
   "metadata": {},
   "source": [
    "First of all, some of the most common and used languages used by data scientis are:\n",
    "\n",
    "1. Python\n",
    "\n",
    "2. R\n",
    "\n",
    "3. C++\n",
    "\n",
    "4. Java\n",
    "\n",
    "5. JavaScript\n",
    "\n",
    "6. Julia\n"
   ]
  },
  {
   "attachments": {},
   "cell_type": "markdown",
   "id": "3c44326a",
   "metadata": {},
   "source": [
    "Secondly, some of the most common and used libraries per languages used by data scientist are:\n",
    "\n",
    "**Python**\n",
    "1. Pandas\n",
    "2. Numpy\n",
    "3. PyTorch\n",
    "4. Scikit-lean\n",
    "\n",
    "**R**\n",
    "1. ggplot2\n",
    "2. caret \n",
    "3. Dplyr\n",
    "4. plotly\n",
    "\n",
    "**Python & R**\n",
    "1. TensorFlow\n",
    "2. Keras"
   ]
  },
  {
   "cell_type": "markdown",
   "id": "7207e253",
   "metadata": {},
   "source": [
    "#### These are some open source tools used by data scientist\n",
    "\n",
    "|Data Science Tools|\n",
    "-----------------------------\n",
    "|Seldom|\n",
    "|Prediction IO|\n",
    "|TensorFlow|"
   ]
  },
  {
   "cell_type": "markdown",
   "id": "63b766a2",
   "metadata": {},
   "source": [
    "### Now we will see how to perfom an arthimetical operation in Python\n",
    "\n"
   ]
  },
  {
   "cell_type": "code",
   "execution_count": 2,
   "id": "bc7f0769",
   "metadata": {},
   "outputs": [
    {
     "data": {
      "text/plain": [
       "17"
      ]
     },
     "execution_count": 2,
     "metadata": {},
     "output_type": "execute_result"
    }
   ],
   "source": [
    "#In python there is no need to declare variables to see an operation like this: \n",
    "(3*4)+5"
   ]
  },
  {
   "cell_type": "code",
   "execution_count": 5,
   "id": "27a1eebc",
   "metadata": {},
   "outputs": [
    {
     "data": {
      "text/plain": [
       "3.3333333333333335"
      ]
     },
     "execution_count": 5,
     "metadata": {},
     "output_type": "execute_result"
    }
   ],
   "source": [
    "#We can divide numbers too, lets see an example as if we try to convert 200 minutes to hours, dividing the minutes in 60,\n",
    "#this will give us the hours:\n",
    "200/60"
   ]
  },
  {
   "cell_type": "markdown",
   "id": "874468c9",
   "metadata": {},
   "source": [
    "## Author \n",
    "Pablo C."
   ]
  },
  {
   "cell_type": "code",
   "execution_count": null,
   "id": "5b71c492",
   "metadata": {},
   "outputs": [],
   "source": []
  }
 ],
 "metadata": {
  "kernelspec": {
   "display_name": "Python 3 (ipykernel)",
   "language": "python",
   "name": "python3"
  },
  "language_info": {
   "codemirror_mode": {
    "name": "ipython",
    "version": 3
   },
   "file_extension": ".py",
   "mimetype": "text/x-python",
   "name": "python",
   "nbconvert_exporter": "python",
   "pygments_lexer": "ipython3",
   "version": "3.9.7"
  }
 },
 "nbformat": 4,
 "nbformat_minor": 5
}
